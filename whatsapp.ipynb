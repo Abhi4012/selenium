{
 "cells": [
  {
   "cell_type": "code",
   "execution_count": 72,
   "metadata": {},
   "outputs": [],
   "source": [
    "from selenium import webdriver\n",
    "from selenium.webdriver.chrome.options import Options\n",
    "from selenium.webdriver.support import expected_conditions as EC\n",
    "from selenium.webdriver.support.ui import WebDriverWait\n",
    "from selenium.webdriver.common.by import By\n",
    "from selenium.webdriver.common.keys import Keys\n",
    "import pandas as pd"
   ]
  },
  {
   "cell_type": "code",
   "execution_count": 74,
   "metadata": {},
   "outputs": [
    {
     "name": "stderr",
     "output_type": "stream",
     "text": [
      "The chromedriver version (123.0.6312.122) detected in PATH at e:\\projects\\selenium\\chromedriver.exe might not be compatible with the detected chrome version (124.0.6367.119); currently, chromedriver 124.0.6367.91 is recommended for chrome 124.*, so it is advised to delete the driver in PATH and retry\n"
     ]
    }
   ],
   "source": [
    "options = webdriver.ChromeOptions()\n",
    "options.add_argument(r\"user-data-dir=C:/Users/ak352/AppData/Local/Google/Chrome/User Data/Guest Profile\")\n",
    "driver = webdriver.Chrome(options=options)\n",
    "driver.get(\"https://web.whatsapp.com/\")\n",
    "wait = WebDriverWait(driver,100)\n",
    "\n",
    "target = '\"Whats app user number\"'\n",
    "a = [\"hello\", \"hi\", \"bye\", \"hello\", \"aks\", \"hello\", \"a\", \"b\", \"c\"]\n",
    "df = pd.read_csv(\"text_data_toc.csv\")\n",
    "\n",
    "for _ in range(6):\n",
    "    for i in a:\n",
    "        text = i\n",
    "\n",
    "\n",
    "        contact_path = '//span[contains(@title,'+ target +')]'\n",
    "        contact = wait.until(EC.presence_of_element_located((By.XPATH,contact_path)))\n",
    "        contact.click()\n",
    "\n",
    "        message_box_path = '//*[@id=\"main\"]/footer/div[1]/div/span[2]/div/div[2]/div[1]/div/div[1]'\n",
    "        message_box = wait.until(EC.presence_of_element_located((By.XPATH,message_box_path)))\n",
    "\n",
    "        message_box.send_keys(text + Keys.ENTER)"
   ]
  },
  {
   "cell_type": "code",
   "execution_count": null,
   "metadata": {},
   "outputs": [],
   "source": []
  }
 ],
 "metadata": {
  "kernelspec": {
   "display_name": "Python 3",
   "language": "python",
   "name": "python3"
  },
  "language_info": {
   "codemirror_mode": {
    "name": "ipython",
    "version": 3
   },
   "file_extension": ".py",
   "mimetype": "text/x-python",
   "name": "python",
   "nbconvert_exporter": "python",
   "pygments_lexer": "ipython3",
   "version": "3.10.14"
  }
 },
 "nbformat": 4,
 "nbformat_minor": 2
}
